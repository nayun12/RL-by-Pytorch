{
  "nbformat": 4,
  "nbformat_minor": 0,
  "metadata": {
    "colab": {
      "name": "1회차.ipynb",
      "provenance": [],
      "authorship_tag": "ABX9TyPOw/WQ/faP7OnpQ5lWErPR",
      "include_colab_link": true
    },
    "kernelspec": {
      "name": "python3",
      "display_name": "Python 3"
    },
    "language_info": {
      "name": "python"
    }
  },
  "cells": [
    {
      "cell_type": "markdown",
      "metadata": {
        "id": "view-in-github",
        "colab_type": "text"
      },
      "source": [
        "<a href=\"https://colab.research.google.com/github/nayun12/RL-by-Pytorch/blob/main/1%ED%9A%8C%EC%B0%A8.ipynb\" target=\"_parent\"><img src=\"https://colab.research.google.com/assets/colab-badge.svg\" alt=\"Open In Colab\"/></a>"
      ]
    },
    {
      "cell_type": "markdown",
      "source": [
        "Pytorch 예제\n",
        "- 목표 : Pytorch를 이용해 간단한 네트워크 연산을 수행!\n",
        "- ANN 네트워크 구조\n",
        "    - 3개의 입력(랜덤), 2개의 출력\n",
        "    - 은닉층 2층 (4개의 노드)\n",
        "- CNN 네트워크 구조\n",
        "    - 2층의 convolution, 1층의 linear layer\n",
        "    - convolution : Channel=32,Filter=3x3, Stride=2x2"
      ],
      "metadata": {
        "id": "Ate6Unn4q2hY"
      }
    },
    {
      "cell_type": "code",
      "execution_count": 2,
      "metadata": {
        "id": "zv9Jx0WTqe22"
      },
      "outputs": [],
      "source": [
        "# 라이브러리 불러오기\n",
        "import torch\n",
        "import torch.nn as nn\n",
        "import torch.nn.functional as F\n",
        "\n",
        "import numpy as np\n",
        "\n",
        "# gpu가 있는 경우 pytorch 연산을 gpu로, 그렇지 않은 경우 pytorch 연산을 cpu로 수행\n",
        "device = torch.device(\"cuda:0\" if torch.cuda.is_available() else \"cpu\")\n"
      ]
    },
    {
      "cell_type": "code",
      "source": [
        "# 딥러닝 모델\n",
        "class Model(nn.Module):\n",
        "    # init function : 네트워크 변수 정의\n",
        "    def __init__(self):\n",
        "        super(Model, self).__init__()\n",
        "        self.fc1 = nn.Linear(3,4)\n",
        "        self.fc2 = nn.Linear(4,4)\n",
        "        self.fc3 = nn.Linear(4,2)\n",
        "    # forward 함수 : 네트워크 구조 결정 및 연산 수행\n",
        "    def forward(self, x):\n",
        "        x = F.relu(self.fc1(x))\n",
        "        x = F.relu(self.fc2(x))\n",
        "        x = self.fc3(x)\n",
        "        return x        \n",
        "        "
      ],
      "metadata": {
        "id": "K5dSoQPjtSoc"
      },
      "execution_count": 3,
      "outputs": []
    },
    {
      "cell_type": "markdown",
      "source": [
        "nn.Linear : 선형 연산 (Wx+b)![캡처.PNG](data:image/png;base64,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)"
      ],
      "metadata": {
        "id": "2_HOjap3wr8E"
      }
    },
    {
      "cell_type": "code",
      "source": [
        "# 네트워크 선언\n",
        "model = Model().to(device)\n",
        "\n",
        "# 네트워크를 이용한 연산 수행 (tensor)\n",
        "# 입력데이터 생성 - (2,3)의 랜덤 데이터를 torch.rand로 생성 후 연산 장치 할당(tensor 자료형)\n",
        "# tensor : pytorch 연산 수행을 위한 데이터 자료형 (numpy<->tensor 변환 중요)\n",
        "x_tensor = torch.rand(2,3).to(device)\n",
        "# 딥러닝 모델(model)에 입력 x를 대입하여 결과값(output) 도출 -> model의 forward 함수 연산\n",
        "output = model(x_tensor)\n",
        "\n",
        "print(\"x_tensor: {}\".format(x_tensor))\n",
        "print(\"output: {}\".format(output))"
      ],
      "metadata": {
        "colab": {
          "base_uri": "https://localhost:8080/"
        },
        "id": "OgndFBY4wQ_l",
        "outputId": "afef7c16-2afc-4cff-b36e-f217beb99524"
      },
      "execution_count": 4,
      "outputs": [
        {
          "output_type": "stream",
          "name": "stdout",
          "text": [
            "x_tensor: tensor([[0.8041, 0.7335, 0.3528],\n",
            "        [0.1415, 0.2065, 0.0718]])\n",
            "output: tensor([[-0.1705, -0.5964],\n",
            "        [-0.1668, -0.5867]], grad_fn=<AddmmBackward0>)\n"
          ]
        }
      ]
    },
    {
      "cell_type": "code",
      "source": [
        "# Numpy 변환\n",
        "# 연산장치를 cpu로 변환\n",
        "# detach : gradient 전파가 안되도록 함\n",
        "# numpy : tensor를 numpy로 변환 \n",
        "output_np = output.cpu().detach().numpy()\n",
        "print(\"output_np : {}\".format(output_np))\n"
      ],
      "metadata": {
        "colab": {
          "base_uri": "https://localhost:8080/"
        },
        "id": "mdGUbMURxY52",
        "outputId": "a8c6cb43-5ed3-4b52-fc25-c66683b6efc5"
      },
      "execution_count": 5,
      "outputs": [
        {
          "output_type": "stream",
          "name": "stdout",
          "text": [
            "output_np : [[-0.17049286 -0.5964496 ]\n",
            " [-0.16675484 -0.5866587 ]]\n"
          ]
        }
      ]
    },
    {
      "cell_type": "code",
      "source": [
        ""
      ],
      "metadata": {
        "id": "7jMJosEx7KQ9"
      },
      "execution_count": 9,
      "outputs": []
    },
    {
      "cell_type": "code",
      "source": [
        ""
      ],
      "metadata": {
        "id": "mW6saXKF7KLV"
      },
      "execution_count": null,
      "outputs": []
    },
    {
      "cell_type": "markdown",
      "source": [
        ""
      ],
      "metadata": {
        "id": "qjPu17Itqpw-"
      }
    }
  ]
}